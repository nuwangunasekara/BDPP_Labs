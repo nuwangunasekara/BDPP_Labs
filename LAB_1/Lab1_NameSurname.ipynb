{
 "cells": [
  {
   "cell_type": "markdown",
   "metadata": {},
   "source": [
    "# Check spark installation"
   ]
  },
  {
   "cell_type": "markdown",
   "metadata": {},
   "source": [
    "## Check java version"
   ]
  },
  {
   "cell_type": "code",
   "execution_count": null,
   "metadata": {},
   "outputs": [],
   "source": [
    "!java --version"
   ]
  },
  {
   "cell_type": "markdown",
   "metadata": {},
   "source": [
    "# Check active Conda environment"
   ]
  },
  {
   "cell_type": "code",
   "execution_count": null,
   "metadata": {},
   "outputs": [],
   "source": [
    "!conda env list"
   ]
  },
  {
   "cell_type": "markdown",
   "metadata": {},
   "source": [
    "# Check Spark"
   ]
  },
  {
   "cell_type": "code",
   "execution_count": null,
   "metadata": {},
   "outputs": [],
   "source": [
    "from pyspark.sql import SparkSession\n",
    "\n",
    "try:\n",
    "    # Create a Spark session\n",
    "    spark = SparkSession.builder \\\n",
    "        .appName(\"SparkInstallCheck\") \\\n",
    "        .getOrCreate()\n",
    "    \n",
    "    # Print Spark version\n",
    "    print(f\"Spark version: {spark.version}\")\n",
    "    \n",
    "    # Run a simple test\n",
    "    data = [(\"<Replace with your name>\", 1), (\"<Replace with favorite food>\", 2)]\n",
    "    columns = [\"Name\", \"Favorite Food\"]\n",
    "    df = spark.createDataFrame(data, columns)\n",
    "    df.show()\n",
    "    \n",
    "    # Stop the Spark session\n",
    "    spark.stop()\n",
    "    print(\"Spark is installed and working correctly!\")\n",
    "except Exception as e:\n",
    "    print(f\"Error with Spark installation: {str(e)}\")"
   ]
  },
  {
   "cell_type": "markdown",
   "metadata": {},
   "source": [
    "# Save and submit the notebook through Black Board.\n",
    "- Save the notebook\n",
    "- Submit the run notebook through Black Board.\n"
   ]
  }
 ],
 "metadata": {
  "kernelspec": {
   "display_name": "Python 3",
   "language": "python",
   "name": "python3"
  },
  "language_info": {
   "codemirror_mode": {
    "name": "ipython",
    "version": 3
   },
   "file_extension": ".py",
   "mimetype": "text/x-python",
   "name": "python",
   "nbconvert_exporter": "python",
   "pygments_lexer": "ipython3",
   "version": "3.8.18"
  },
  "name": "quickstart",
  "notebookId": 1927513300154480
 },
 "nbformat": 4,
 "nbformat_minor": 1
}
